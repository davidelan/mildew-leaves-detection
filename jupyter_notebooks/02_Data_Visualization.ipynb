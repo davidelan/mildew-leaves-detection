{
 "cells": [
  {
   "cell_type": "markdown",
   "metadata": {},
   "source": [
    "# **Data Visualization**"
   ]
  },
  {
   "cell_type": "markdown",
   "metadata": {},
   "source": [
    "## Objectives"
   ]
  },
  {
   "cell_type": "markdown",
   "metadata": {},
   "source": [
    "Achieve business requirement no.1:\n",
    "\n",
    "* Visually differentiate a healthy cherry leaf from one that is affected by powdery mildew.\n"
   ]
  },
  {
   "cell_type": "markdown",
   "metadata": {},
   "source": [
    "## Inputs"
   ]
  },
  {
   "cell_type": "markdown",
   "metadata": {},
   "source": [
    "As a reminder here the structure of where the test, train, validation images will be selected: \n",
    "```bash\n",
    ". \n",
    "├── inputs \n",
    "│   └──cherryleaves_dataset \n",
    "│      └──cherry-leaves                                     \n",
    "│           ├── test\n",
    "│           │   ├── healthy\n",
    "│           │   └── powdery_mildew                   \n",
    "│           ├── train\n",
    "│           │   ├── healthy\n",
    "│           │   └── powdery_mildew          \n",
    "│           └── validation\n",
    "│               ├── healthy\n",
    "│               └── powdery_mildew                 \n",
    "└── ...\n",
    "```"
   ]
  },
  {
   "cell_type": "markdown",
   "metadata": {},
   "source": [
    "## Outputs"
   ]
  },
  {
   "cell_type": "markdown",
   "metadata": {},
   "source": [
    "\n",
    "\n",
    "* Compute average image size from the train set. The convolutional neural network (CNN) will train on the test set, hence is fundamental that all input images have the same size. Input size determines the CNN architecture.\n",
    "* Image shape embeddings pickle file.\n",
    "* Plot mean and vairability of images per label.\n",
    "* Plot to distinguish the contrast between uninfected and infected cell images.\n",
    "* Generate code that answers busines requirement 1 and can be used to build an image monatage on the Streamlit dashboard.\n",
    "\n"
   ]
  },
  {
   "cell_type": "markdown",
   "metadata": {},
   "source": [
    "## Comments\n",
    "\n",
    "* The avarage dimension of the raw images is 256px width by 256px height\n",
    "\n",
    "* Data is also visually arranged as requested by the client (Business Requirement #1)\n"
   ]
  },
  {
   "cell_type": "markdown",
   "metadata": {},
   "source": [
    "---"
   ]
  },
  {
   "cell_type": "markdown",
   "metadata": {},
   "source": [
    "## Import libraries"
   ]
  },
  {
   "cell_type": "code",
   "execution_count": 2,
   "metadata": {},
   "outputs": [],
   "source": [
    "import os\n",
    "import pandas as pd\n",
    "import numpy as np\n",
    "import matplotlib.pyplot as plt \n",
    "import seaborn as sns \n",
    "import joblib\n",
    "sns.set_style('white')\n",
    "from matplotlib.image import imread"
   ]
  },
  {
   "cell_type": "markdown",
   "metadata": {},
   "source": [
    "## Set working directory"
   ]
  },
  {
   "cell_type": "code",
   "execution_count": 4,
   "metadata": {},
   "outputs": [
    {
     "data": {
      "text/plain": [
       "'/workspace/mildew-leaves-detection/jupyter_notebooks'"
      ]
     },
     "execution_count": 4,
     "metadata": {},
     "output_type": "execute_result"
    }
   ],
   "source": [
    "cwd= os.getcwd()\n",
    "cwd"
   ]
  },
  {
   "cell_type": "code",
   "execution_count": 6,
   "metadata": {},
   "outputs": [
    {
     "name": "stdout",
     "output_type": "stream",
     "text": [
      "You set a new current directory\n"
     ]
    }
   ],
   "source": [
    "os.chdir('/workspace/mildew-leaves-detection')\n",
    "print(\"You set a new current directory\")"
   ]
  },
  {
   "cell_type": "code",
   "execution_count": 8,
   "metadata": {},
   "outputs": [
    {
     "name": "stdout",
     "output_type": "stream",
     "text": [
      "New current directory: /workspace/mildew-leaves-detection\n"
     ]
    }
   ],
   "source": [
    "work_dir = os.getcwd()\n",
    "print(\"New current directory:\", work_dir) "
   ]
  }
 ],
 "metadata": {
  "kernelspec": {
   "display_name": "Python 3",
   "language": "python",
   "name": "python3"
  },
  "language_info": {
   "codemirror_mode": {
    "name": "ipython",
    "version": 3
   },
   "file_extension": ".py",
   "mimetype": "text/x-python",
   "name": "python",
   "nbconvert_exporter": "python",
   "pygments_lexer": "ipython3",
   "version": "3.8.18"
  }
 },
 "nbformat": 4,
 "nbformat_minor": 2
}
